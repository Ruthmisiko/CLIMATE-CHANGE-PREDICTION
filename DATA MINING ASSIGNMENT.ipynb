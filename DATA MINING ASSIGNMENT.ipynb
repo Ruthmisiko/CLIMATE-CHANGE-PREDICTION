{
 "cells": [
  {
   "cell_type": "code",
   "execution_count": 1,
   "id": "d90fa54e-dee3-417a-a917-56a2bbd760ba",
   "metadata": {},
   "outputs": [
    {
     "name": "stdout",
     "output_type": "stream",
     "text": [
      "              0          1           2                 3             4   \\\n",
      "0         shrimp    almonds     avocado    vegetables mix  green grapes   \n",
      "1        burgers  meatballs        eggs               NaN           NaN   \n",
      "2        chutney        NaN         NaN               NaN           NaN   \n",
      "3         turkey    avocado         NaN               NaN           NaN   \n",
      "4  mineral water       milk  energy bar  whole wheat rice     green tea   \n",
      "\n",
      "                 5     6               7             8             9   \\\n",
      "0  whole weat flour  yams  cottage cheese  energy drink  tomato juice   \n",
      "1               NaN   NaN             NaN           NaN           NaN   \n",
      "2               NaN   NaN             NaN           NaN           NaN   \n",
      "3               NaN   NaN             NaN           NaN           NaN   \n",
      "4               NaN   NaN             NaN           NaN           NaN   \n",
      "\n",
      "               10         11     12     13             14      15  \\\n",
      "0  low fat yogurt  green tea  honey  salad  mineral water  salmon   \n",
      "1             NaN        NaN    NaN    NaN            NaN     NaN   \n",
      "2             NaN        NaN    NaN    NaN            NaN     NaN   \n",
      "3             NaN        NaN    NaN    NaN            NaN     NaN   \n",
      "4             NaN        NaN    NaN    NaN            NaN     NaN   \n",
      "\n",
      "                  16               17       18         19  \n",
      "0  antioxydant juice  frozen smoothie  spinach  olive oil  \n",
      "1                NaN              NaN      NaN        NaN  \n",
      "2                NaN              NaN      NaN        NaN  \n",
      "3                NaN              NaN      NaN        NaN  \n",
      "4                NaN              NaN      NaN        NaN  \n"
     ]
    }
   ],
   "source": [
    "### Market Basket Analysis on Groceries Data using Apriori Algorithm.\n",
    "##\n",
    "### Importing the required libraries.\n",
    "##\n",
    "\n",
    "import numpy as np\n",
    "import pandas                                                 as pd\n",
    "import matplotlib                                             as mp\n",
    "from   matplotlib                    import pyplot            as plt\n",
    "from   mlxtend.frequent_patterns     import apriori           as ap\n",
    "from   mlxtend.frequent_patterns     import association_rules as ar\n",
    "\n",
    "##\n",
    "## Let's import the dataset from local system.\n",
    "##\n",
    "\n",
    "csv_path = '/home/ruth/dataminingassignment/Market_Basket_Optimisation.csv'\n",
    "items_data_df = pd.read_csv(csv_path, header=None)\n",
    "print(items_data_df.head())\n",
    "\n"
   ]
  },
  {
   "cell_type": "code",
   "execution_count": 2,
   "id": "4c6c715c-0b56-45b6-a4c3-778d63f65ff7",
   "metadata": {},
   "outputs": [
    {
     "name": "stdout",
     "output_type": "stream",
     "text": [
      "['shrimp' 'burgers' 'chutney' 'turkey' 'mineral water' 'low fat yogurt'\n",
      " 'whole wheat pasta' 'soup' 'frozen vegetables' 'french fries' 'eggs'\n",
      " 'cookies' 'spaghetti' 'meatballs' 'red wine' 'rice' 'parmesan cheese'\n",
      " 'ground beef' 'sparkling water' 'herb & pepper' 'pickles' 'energy bar'\n",
      " 'fresh tuna' 'escalope' 'avocado' 'tomato sauce' 'clothes accessories'\n",
      " 'energy drink' 'chocolate' 'grated cheese' 'yogurt cake' 'mint'\n",
      " 'asparagus' 'champagne' 'ham' 'muffins' 'french wine' 'chicken' 'pasta'\n",
      " 'tomatoes' 'pancakes' 'frozen smoothie' 'carrots' 'yams' 'shallot'\n",
      " 'butter' 'light mayo' 'pepper' 'candy bars' 'cooking oil' 'milk'\n",
      " 'green tea' 'bug spray' 'oil' 'olive oil' 'salmon' 'cake' 'almonds'\n",
      " 'salt' 'strong cheese' 'hot dogs' 'pet food' 'whole wheat rice'\n",
      " 'antioxydant juice' 'honey' 'sandwich' 'salad' 'magazines' 'protein bar'\n",
      " 'mayonnaise' 'cider' 'burger sauce' 'green grapes' 'vegetables mix'\n",
      " 'bramble' 'nonfat milk' 'tomato juice' 'green beans' 'strawberries'\n",
      " 'eggplant' 'mushroom cream sauce' 'gums' 'cereals' 'flax seed' 'spinach'\n",
      " 'soda' 'dessert wine' 'corn' 'fresh bread' 'brownies' 'fromage blanc'\n",
      " 'chocolate bread' 'mashed potato' 'gluten free bar' 'cottage cheese'\n",
      " 'whole weat flour' 'chili' 'barbecue sauce' 'light cream'\n",
      " 'mint green tea' 'black tea' 'bacon' 'shampoo' 'blueberries'\n",
      " 'cauliflower' 'extra dark chocolate' 'white wine' 'babies food'\n",
      " 'toothpaste' 'melons' 'ketchup' 'cream' 'hand protein bar' 'body spray'\n",
      " 'oatmeal']\n"
     ]
    }
   ],
   "source": [
    "##\n",
    "## Majority of the records have Na or NaN. Let's analyze how many unique values we have.\n",
    "##\n",
    "\n",
    "unique_items = (items_data_df[0].unique())\n",
    "print(unique_items)\n",
    "\n"
   ]
  },
  {
   "cell_type": "code",
   "execution_count": 3,
   "id": "fe5696f1-b0bb-445c-a9b8-97f9d512eb7d",
   "metadata": {},
   "outputs": [
    {
     "name": "stdout",
     "output_type": "stream",
     "text": [
      "   corn  gluten free bar  burgers  flax seed  frozen vegetables  \\\n",
      "0     0                0        0          0                  0   \n",
      "1     0                0        1          0                  0   \n",
      "2     0                0        0          0                  0   \n",
      "3     0                0        0          0                  0   \n",
      "4     0                0        0          0                  0   \n",
      "\n",
      "   strong cheese  light mayo  bacon  clothes accessories  whole wheat pasta  \\\n",
      "0              0           0      0                    0                  0   \n",
      "1              0           0      0                    0                  0   \n",
      "2              0           0      0                    0                  0   \n",
      "3              0           0      0                    0                  0   \n",
      "4              0           0      0                    0                  0   \n",
      "\n",
      "   ...  frozen smoothie  green grapes  avocado  antioxydant juice  \\\n",
      "0  ...                1             1        1                  1   \n",
      "1  ...                0             0        0                  0   \n",
      "2  ...                0             0        0                  0   \n",
      "3  ...                0             0        1                  0   \n",
      "4  ...                0             0        0                  0   \n",
      "\n",
      "   energy drink  salad  vegetables mix  spinach  cottage cheese  mineral water  \n",
      "0             1      1               1        1               1              1  \n",
      "1             0      0               0        0               0              0  \n",
      "2             0      0               0        0               0              0  \n",
      "3             0      0               0        0               0              0  \n",
      "4             0      0               0        0               0              1  \n",
      "\n",
      "[5 rows x 115 columns]\n"
     ]
    }
   ],
   "source": [
    "##\n",
    "## Based on the unique items we got, we will perform one-hot-encoding.\n",
    "## The dataset will be converted to a format that has just 0s or 1s. It can also have True or False.\n",
    "## Custom One Hot Encoding\n",
    "##\n",
    "## Python code for one hot encoding\n",
    "##\n",
    "\n",
    "encoded_vals = []\n",
    "for i, rows in items_data_df.iterrows():\n",
    "\tlabels          = {}\n",
    "\tuncommons       = list(set(unique_items) - set(rows))\n",
    "\tcommons         = list(set(unique_items).intersection(rows))\n",
    "\tfor uc in uncommons:\n",
    "\t\tlabels[uc]  = 0\n",
    "\tfor com in commons:\n",
    "\t\tlabels[com] = 1\n",
    "\tencoded_vals.append(labels)\n",
    "encoded_vals[0]\n",
    "\n",
    "encode_df = pd.DataFrame(encoded_vals)\n",
    "\n",
    "print(encode_df.head())\n",
    "\n"
   ]
  },
  {
   "cell_type": "code",
   "execution_count": 4,
   "id": "54fb07d5-0ed2-4b68-a4b3-913231b19ecd",
   "metadata": {},
   "outputs": [
    {
     "name": "stderr",
     "output_type": "stream",
     "text": [
      "/home/ruth/.local/lib/python3.10/site-packages/mlxtend/frequent_patterns/fpcommon.py:110: DeprecationWarning: DataFrames with non-bool types result in worse computationalperformance and their support might be discontinued in the future.Please use a DataFrame with bool type\n",
      "  warnings.warn(\n"
     ]
    },
    {
     "name": "stdout",
     "output_type": "stream",
     "text": [
      "Processing 152 combinations | Sampling itemset size 43\n",
      "    support             itemsets\n",
      "0  0.087188            (burgers)\n",
      "1  0.009065          (flax seed)\n",
      "2  0.095321  (frozen vegetables)\n",
      "3  0.027196         (light mayo)\n",
      "4  0.008666              (bacon)\n"
     ]
    }
   ],
   "source": [
    "##\n",
    "## Defining the apriori algorithm.\n",
    "##\n",
    "\n",
    "freq_items = ap(encode_df, min_support=0.0085, use_colnames=True, verbose=1, low_memory=False)\n",
    "print(freq_items.head())\n",
    "\n"
   ]
  },
  {
   "cell_type": "code",
   "execution_count": 5,
   "id": "556d5efb-cf34-4424-b7f6-74f7253a4192",
   "metadata": {},
   "outputs": [
    {
     "name": "stdout",
     "output_type": "stream",
     "text": [
      "                    antecedents      consequents  antecedent support  \\\n",
      "0                     (burgers)   (french fries)            0.087188   \n",
      "1                     (burgers)           (eggs)            0.087188   \n",
      "2                     (burgers)  (mineral water)            0.087188   \n",
      "3           (frozen vegetables)      (spaghetti)            0.095321   \n",
      "4           (frozen vegetables)  (mineral water)            0.095321   \n",
      "..                          ...              ...                 ...   \n",
      "132       (eggs, mineral water)      (spaghetti)            0.050927   \n",
      "133         (spaghetti, shrimp)  (mineral water)            0.021197   \n",
      "134     (shrimp, mineral water)      (spaghetti)            0.023597   \n",
      "135      (spaghetti, olive oil)  (mineral water)            0.022930   \n",
      "136  (olive oil, mineral water)      (spaghetti)            0.027596   \n",
      "\n",
      "     consequent support   support  confidence      lift  leverage  conviction  \\\n",
      "0              0.170911  0.021997    0.252294  1.476173  0.007096    1.108844   \n",
      "1              0.179709  0.028796    0.330275  1.837830  0.013128    1.224818   \n",
      "2              0.238368  0.024397    0.279817  1.173883  0.003614    1.057552   \n",
      "3              0.174110  0.027863    0.292308  1.678867  0.011267    1.167018   \n",
      "4              0.238368  0.035729    0.374825  1.572463  0.013007    1.218270   \n",
      "..                  ...       ...         ...       ...       ...         ...   \n",
      "132            0.174110  0.014265    0.280105  1.608779  0.005398    1.147236   \n",
      "133            0.238368  0.008532    0.402516  1.688630  0.003479    1.274731   \n",
      "134            0.174110  0.008532    0.361582  2.076743  0.004424    1.293651   \n",
      "135            0.238368  0.010265    0.447674  1.878079  0.004799    1.378954   \n",
      "136            0.174110  0.010265    0.371981  2.136468  0.005460    1.315071   \n",
      "\n",
      "     zhangs_metric  \n",
      "0         0.353384  \n",
      "1         0.499424  \n",
      "2         0.162275  \n",
      "3         0.446965  \n",
      "4         0.402413  \n",
      "..             ...  \n",
      "132       0.398716  \n",
      "133       0.416635  \n",
      "134       0.531007  \n",
      "135       0.478514  \n",
      "136       0.547034  \n",
      "\n",
      "[137 rows x 10 columns]\n"
     ]
    }
   ],
   "source": [
    "##\n",
    "## Defining the association rules algorithms to match and find similar items together based on confidence.\n",
    "##\n",
    "\n",
    "assocn_rules_conf   = ar(freq_items, metric=\"confidence\", min_threshold=0.25)\n",
    "print(assocn_rules_conf)\n",
    "\n"
   ]
  },
  {
   "cell_type": "code",
   "execution_count": 6,
   "id": "0d74080c-49f0-40fd-b35f-e7f7a38ce25f",
   "metadata": {},
   "outputs": [
    {
     "name": "stdout",
     "output_type": "stream",
     "text": [
      "                    antecedents                 consequents  \\\n",
      "0           (frozen vegetables)                   (burgers)   \n",
      "1                     (burgers)         (frozen vegetables)   \n",
      "2                     (burgers)                  (pancakes)   \n",
      "3                    (pancakes)                   (burgers)   \n",
      "4                     (burgers)                      (milk)   \n",
      "..                          ...                         ...   \n",
      "615  (spaghetti, mineral water)                 (olive oil)   \n",
      "616  (olive oil, mineral water)                 (spaghetti)   \n",
      "617                 (spaghetti)  (olive oil, mineral water)   \n",
      "618                 (olive oil)  (spaghetti, mineral water)   \n",
      "619             (mineral water)      (spaghetti, olive oil)   \n",
      "\n",
      "     antecedent support  consequent support   support  confidence      lift  \\\n",
      "0              0.095321            0.087188  0.010532    0.110490  1.267250   \n",
      "1              0.087188            0.095321  0.010532    0.120795  1.267250   \n",
      "2              0.087188            0.095054  0.010532    0.120795  1.270805   \n",
      "3              0.095054            0.087188  0.010532    0.110799  1.270805   \n",
      "4              0.087188            0.129583  0.017864    0.204893  1.581175   \n",
      "..                  ...                 ...       ...         ...       ...   \n",
      "615            0.059725            0.065858  0.010265    0.171875  2.609786   \n",
      "616            0.027596            0.174110  0.010265    0.371981  2.136468   \n",
      "617            0.174110            0.027596  0.010265    0.058959  2.136468   \n",
      "618            0.065858            0.059725  0.010265    0.155870  2.609786   \n",
      "619            0.238368            0.022930  0.010265    0.043065  1.878079   \n",
      "\n",
      "     leverage  conviction  zhangs_metric  \n",
      "0    0.002221    1.026195       0.233110  \n",
      "1    0.002221    1.028974       0.231033  \n",
      "2    0.002244    1.029278       0.233452  \n",
      "3    0.002244    1.026553       0.235481  \n",
      "4    0.006566    1.094717       0.402667  \n",
      "..        ...         ...            ...  \n",
      "615  0.006332    1.128021       0.656007  \n",
      "616  0.005460    1.315071       0.547034  \n",
      "617  0.005460    1.033327       0.644078  \n",
      "618  0.006332    1.113898       0.660314  \n",
      "619  0.004799    1.021041       0.613868  \n",
      "\n",
      "[620 rows x 10 columns]\n"
     ]
    }
   ],
   "source": [
    "##\n",
    "## Defining the association rules algorithms to match and find similar items together based on support.\n",
    "##\n",
    "assocn_rules_supp   = ar(freq_items, metric=\"support\", min_threshold=0.005)\n",
    "print(assocn_rules_supp)\n",
    "\n"
   ]
  },
  {
   "cell_type": "code",
   "execution_count": 7,
   "id": "fe66fe7d-fab1-4bf5-918a-13b0c7bec637",
   "metadata": {},
   "outputs": [
    {
     "data": {
      "image/png": "[encoded data removed]",
      "text/plain": [
       "<Figure size 640x480 with 1 Axes>"
      ]
     },
     "metadata": {},
     "output_type": "display_data"
    }
   ],
   "source": [
    "##\n",
    "##\n",
    "## Plotting the scatter plot of Confidence Vs Support\n",
    "##\n",
    "\n",
    "plt.scatter(assocn_rules_conf['support'], assocn_rules_conf['confidence'], alpha=0.5)\n",
    "plt.xlabel('support')\n",
    "plt.ylabel('confidence')\n",
    "plt.title('Support vs Confidence')\n",
    "plt.savefig('Support vs Confidence')\n",
    "plt.show()\n",
    "\n",
    "\n"
   ]
  },
  {
   "cell_type": "code",
   "execution_count": 8,
   "id": "f5482eb7-6f9c-457b-b51a-b8935b450960",
   "metadata": {},
   "outputs": [
    {
     "data": {
      "image/png": "[encoded data removed]",
      "text/plain": [
       "<Figure size 640x480 with 1 Axes>"
      ]
     },
     "metadata": {},
     "output_type": "display_data"
    }
   ],
   "source": [
    "##\n",
    "## Plotting the scatter plot of Lift Vs Support\n",
    "##\n",
    "\n",
    "plt.scatter(assocn_rules_conf['support'], assocn_rules_conf['lift'], alpha=0.5)\n",
    "plt.xlabel('support')\n",
    "plt.ylabel('lift')\n",
    "plt.title('Support vs Lift')\n",
    "plt.savefig('Support vs Lift')\n",
    "plt.show()\n",
    "\n",
    "\n"
   ]
  },
  {
   "cell_type": "code",
   "execution_count": null,
   "id": "c343f74d-c9c8-4f15-b832-070d6d7a3552",
   "metadata": {},
   "outputs": [],
   "source": []
  },
  {
   "cell_type": "code",
   "execution_count": 11,
   "id": "8f7b2bb0-69d3-4e8b-b646-e88d26922b1a",
   "metadata": {},
   "outputs": [
    {
     "name": "stdout",
     "output_type": "stream",
     "text": [
      "Defaulting to user installation because normal site-packages is not writeable\n",
      "Collecting openpyxl\n",
      "  Downloading openpyxl-3.1.2-py2.py3-none-any.whl (249 kB)\n",
      "\u001b[2K     \u001b[38;2;114;156;31m━━━━━━━━━━━━━━━━━━━━━━━━━━━━━━━━━━━━━━━\u001b[0m \u001b[32m250.0/250.0 kB\u001b[0m \u001b[31m1.2 MB/s\u001b[0m eta \u001b[36m0:00:00\u001b[0m[36m0:00:01\u001b[0m[36m0:00:01\u001b[0m\n",
      "\u001b[?25hCollecting et-xmlfile (from openpyxl)\n",
      "  Downloading et_xmlfile-1.1.0-py3-none-any.whl (4.7 kB)\n",
      "Installing collected packages: et-xmlfile, openpyxl\n",
      "Successfully installed et-xmlfile-1.1.0 openpyxl-3.1.2\n",
      "Note: you may need to restart the kernel to use updated packages.\n"
     ]
    }
   ],
   "source": [
    "pip install openpyxl"
   ]
  },
  {
   "cell_type": "code",
   "execution_count": 19,
   "id": "f14b761e-5ced-4c45-90f9-46a94bde527a",
   "metadata": {},
   "outputs": [],
   "source": [
    "##\n",
    "## Writing the generated rules based on confidence onto an excel file for business use.\n",
    "##\n",
    "\n",
    "w1 = pd.ExcelWriter('/home/ruth/dataminingassignment/Generated_Rules_conf.xlsx')\n",
    "assocn_rules_conf.to_excel(w1, 'Rules')\n",
    "w1._save() \n"
   ]
  },
  {
   "cell_type": "code",
   "execution_count": 17,
   "id": "1098b185-2fd7-4b10-a8b5-ae1cc2148f10",
   "metadata": {},
   "outputs": [],
   "source": [
    "##\n",
    "## Writing the generated rules based on support onto an excel file for business use.\n",
    "##\n",
    "\n",
    "w2 = pd.ExcelWriter('Generated_Rules_supp.xlsx')\n",
    "assocn_rules_supp.to_excel(w2, 'Rules')\n",
    "w2._save()"
   ]
  },
  {
   "cell_type": "code",
   "execution_count": null,
   "id": "e6b927ad-191a-4f69-b017-4077b374fe6a",
   "metadata": {},
   "outputs": [],
   "source": []
  }
 ],
 "metadata": {
  "kernelspec": {
   "display_name": "Python 3 (ipykernel)",
   "language": "python",
   "name": "python3"
  },
  "language_info": {
   "codemirror_mode": {
    "name": "ipython",
    "version": 3
   },
   "file_extension": ".py",
   "mimetype": "text/x-python",
   "name": "python",
   "nbconvert_exporter": "python",
   "pygments_lexer": "ipython3",
   "version": "3.10.12"
  }
 },
 "nbformat": 4,
 "nbformat_minor": 5
}
